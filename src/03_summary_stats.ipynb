{
 "cells": [
  {
   "cell_type": "code",
   "execution_count": null,
   "metadata": {},
   "outputs": [],
   "source": [
    "from scipy.stats.mstats import winsorize\n",
    "import pandas as pd\n",
    "pd.options.mode.chained_assignment = None  # default='warn'\n",
    "import numpy as np\n",
    "\n",
    "import matplotlib.pyplot as plt\n",
    "import seaborn as sns\n",
    "\n",
    "from itertools import chain\n",
    "import datetime as dt\n",
    "import zipfile\n",
    "import gzip\n",
    "import warnings\n",
    "warnings.filterwarnings(\"ignore\")\n",
    "import matplotlib.dates as mdates\n",
    "import config\n",
    "from pathlib import Path\n",
    "\n",
    "OUTPUT_DIR = Path(config.OUTPUT_DIR)\n",
    "DATA_DIR = Path(config.DATA_DIR)\n",
    "START_DATE = config.START_DATE\n",
    "END_DATE = config.END_DATE"
   ]
  },
  {
   "cell_type": "code",
   "execution_count": null,
   "metadata": {},
   "outputs": [],
   "source": [
    "# Change default pandas display options\n",
    "pd.options.display.max_columns = 25\n",
    "pd.options.display.max_rows = 500\n",
    "pd.options.display.max_colwidth = 100\n",
    "pd.set_option('display.float_format', lambda x: '%.4f' % x)\n",
    "\n",
    "# Change default figure size\n",
    "plt.rcParams['figure.figsize'] = 6, 5"
   ]
  },
  {
   "cell_type": "markdown",
   "metadata": {},
   "source": [
    "# Import Cleaned Data\n",
    "\n",
    "- We are going to use the cleaned data to derive the table1. This dataframe contains the daily data of different bonds about bid ask spread, bid ask (cross-sectional winsorized) bias, daily return, credit spread, and ratong category."
   ]
  },
  {
   "cell_type": "code",
   "execution_count": null,
   "metadata": {},
   "outputs": [],
   "source": [
    "daily_data = pd.read_csv(Path(DATA_DIR) / 'pulled' / 'daily.csv')"
   ]
  },
  {
   "cell_type": "code",
   "execution_count": null,
   "metadata": {},
   "outputs": [],
   "source": [
    "SUBSAMPLES = {\n",
    "    'Full sample': ('2002-07-01', '2022-09-30'),\n",
    "    'Pre-crisis': ('2002-07-01', '2007-06-30'),\n",
    "    'Crisis': ('2007-07-01', '2009-04-30'),\n",
    "    'Post-Crisis': ('2009-05-01', '2012-05-31'),\n",
    "    'Basel II.5 & III': ('2012-06-01', '2014-03-31'),\n",
    "    'Post-Volcker': ('2014-04-01', '2022-09-30'),\n",
    "    'Recent':('2022-10-01', '2023-06-30'),\n",
    "}"
   ]
  },
  {
   "cell_type": "code",
   "execution_count": null,
   "metadata": {},
   "outputs": [],
   "source": [
    "daily_data.head(5)"
   ]
  },
  {
   "cell_type": "markdown",
   "metadata": {},
   "source": [
    "## Summary Statistics\n",
    "\n",
    "- Note that all metrics has large range between the min and max, indicating that there are extreme values, and all the standard deviations indicate considerable variability among the data.\n",
    "\n",
    "- 1. Bid Ask Spread:\n",
    "\n",
    "    - Note that we did not exclude the negative bid ask spread, so the min of spread reaches to -13.38 bps. However, from the quantiles, we can see that most spreads are positive.\n",
    "\n",
    "    - 25% of the spreads are less than or equal to 18.1036, 50% (median) are less than or equal to 30.3522, and 75% are less than or equal to 43.6666, showing that most spreads are concentrated in the lower range, which corresponds to the fact that the cleaned data tilts the daily sample toward a more **liquid** subset of corporate bond price.\n",
    "\n",
    "- 2. Return\n",
    "    - The average daily return is small at 1.9293 bps.\n",
    "    - A very high standard deviation relative to the mean (35.8667) indicates large fluctuations in daily returns.\n",
    "    - The min daily return is significantly negative (-410.4720 bps), which could signify a substantial loss.\n",
    "    - The maximum daily return is exceptionally high (1250.0001 bps), pointing to some days with very large gains.\n",
    "\n",
    "- 3. Bid ask Bias\n",
    "    - A small average value of mean 0.1387 suggests a slight bias after winsorizing the data to reduce the influence of extreme values. \n",
    "    - The standard deviation is small (0.1501), indicating that the winsorized biases are generally close to the mean.\n",
    "    - The max is 1.8348, showing that even after winsorization, there can be considerable positive bias.\n",
    "\n",
    "- 4. Credit Spread\n",
    "    - A mean of 329.0970 bps suggests that on average, the credit risk is regarded as moderate but significant.\n",
    "    - The large standard deviation indicates a wide variation in credit spread across different bonds, which is reasonable since our data captured both the investment grades bond as well as junk bonds.\n",
    "    - The very high max of 6053.5415 bps suggests that for some bonds, the crdit risk is extremely high, which might reflect high yield or distressed bonds."
   ]
  },
  {
   "cell_type": "code",
   "execution_count": null,
   "metadata": {},
   "outputs": [],
   "source": [
    "# Group by date\n",
    "summary_stats = daily_data.groupby('date')[['spread', 'winsorized_bias', 'daily_return_bps', 'cs_dur_bps']].mean()\n",
    "summary_stats.describe()"
   ]
  },
  {
   "cell_type": "code",
   "execution_count": null,
   "metadata": {},
   "outputs": [],
   "source": [
    "# Write to Latex\n",
    "float_format_func = lambda x: '{:.3f}'.format(x)\n",
    "latex_table_string = summary_stats.describe().to_latex(float_format=float_format_func)\n",
    "path = f'{OUTPUT_DIR}/summary_stats.tex'\n",
    "with open(path, \"w\") as text_file:\n",
    "    text_file.write(latex_table_string)"
   ]
  },
  {
   "cell_type": "code",
   "execution_count": null,
   "metadata": {},
   "outputs": [],
   "source": [
    "# Groupby date and category\n",
    "data_categorized = daily_data.groupby(['category','date'])[['spread', 'winsorized_bias', 'daily_return_bps', 'cs_dur_bps']].mean()\n",
    "data_categorized"
   ]
  },
  {
   "cell_type": "code",
   "execution_count": null,
   "metadata": {},
   "outputs": [],
   "source": [
    "def plot_summary_stats(summary_stats, name, subsamples=SUBSAMPLES):\n",
    "    '''\n",
    "    Since the data is cross-sectional, \n",
    "    we are going to use the average of all bonds on a specific date.\n",
    "    This function is used to plot the time series of metrics (mean) across bonds\n",
    "    '''\n",
    "    df = summary_stats[[name]]\n",
    "    df.index = pd.to_datetime(df.index)\n",
    "    fig, ax = plt.subplots(figsize=(10,5), dpi=200)\n",
    "    ax.plot(df, label = name)\n",
    "    ax.set_xlabel('Date')\n",
    "    ax.set_ylabel(f'Cross Bonds {name}')\n",
    "    ax.xaxis.set_major_locator(mdates.MonthLocator(bymonth = None, interval=30))\n",
    "    ax.xaxis.set_major_formatter(mdates.DateFormatter('%b %Y'))\n",
    "    ax.set_title(f'Time Series of {name} across bonds')\n",
    "\n",
    "    for subsample, (start, end) in subsamples.items():\n",
    "        start = pd.to_datetime(start)\n",
    "        end = pd.to_datetime(end)\n",
    "        ax.axvline(x=start, color='black', linestyle='--', lw=1, label=f'Start of {subsample}')\n",
    "        ax.axvline(x=end, color='red', linestyle='--', lw=1, label=f'End of {subsample}')\n",
    "    \n",
    "    # Improve layout to accommodate the legends\n",
    "    fig.autofmt_xdate()\n",
    "    fig.tight_layout()\n"
   ]
  },
  {
   "cell_type": "code",
   "execution_count": null,
   "metadata": {},
   "outputs": [],
   "source": [
    "def plot_categorized(data_categorized, name, subsamples=SUBSAMPLES):\n",
    "    '''\n",
    "    This function is used to plot the time series of metrics (mean) across bonds \n",
    "    with the bonds being categorized into different rating groups\n",
    "    '''\n",
    "    summary_pivoted = data_categorized.reset_index().pivot(index='date', columns='category', values=['spread', 'winsorized_bias', 'daily_return_bps', 'cs_dur_bps'])\n",
    "    df = summary_pivoted[[name]]\n",
    "    df.index = pd.to_datetime(df.index)\n",
    "    fig, ax = plt.subplots(figsize=(10,5), dpi=200)\n",
    "    ax.plot(df, label = ['A and above', 'BBB', 'Junk'])\n",
    "    ax.set_xlabel('Date')\n",
    "    ax.set_ylabel(f'Cross Bonds {name}')\n",
    "    ax.xaxis.set_major_locator(mdates.MonthLocator(bymonth = None, interval=30))\n",
    "    ax.xaxis.set_major_formatter(mdates.DateFormatter('%b %Y'))\n",
    "    ax.set_title(f'Time Series of {name} across bonds')\n",
    "    ax.legend()\n",
    "    for subsample, (start, end) in subsamples.items():\n",
    "        start = pd.to_datetime(start)\n",
    "        end = pd.to_datetime(end)\n",
    "        ax.axvline(x=start, color='black', linestyle='--', lw=1, label=f'Start of {subsample}')\n",
    "        ax.axvline(x=end, color='red', linestyle='--', lw=1, label=f'End of {subsample}')\n",
    "    \n",
    "    # Improve layout to accommodate the legends\n",
    "    fig.autofmt_xdate()\n",
    "    fig.tight_layout()\n",
    "    filepath = Path(OUTPUT_DIR) / f'{name}_categorized.png'\n",
    "    plt.savefig(filepath)"
   ]
  },
  {
   "cell_type": "markdown",
   "metadata": {},
   "source": [
    "# 1 Bid and Ask Spread"
   ]
  },
  {
   "cell_type": "code",
   "execution_count": null,
   "metadata": {},
   "outputs": [],
   "source": [
    "plot_summary_stats(summary_stats, 'spread')"
   ]
  },
  {
   "cell_type": "markdown",
   "metadata": {},
   "source": [
    "- Higher bid-ask spreads typically indicate lower liquidity, meaning there are fewer buyers and sellers. This can make it more difficult to trade without impacting the price. Conversely, lower spreads suggest better liquidity, where bonds can be bought and sold more easily with less impact on the price.\n",
    "- From the time series, we can see several spikes. Peaks in the bid-ask spread can correspond to times of financial stress or uncertainty, when liquidity providers increase their spreads to compensate for higher risk. Periods with consistently higher spreads may align with economic downturns, financial crises, or other market disruptions.\n",
    "- During the Crisis period, the spread arises, which is consistent with our assumptions above. \n",
    "- Oeverall, the spread has a decreasing tendency, with huge spikes occuring less frequently, indicating a more liquid and stable credit market in recent times\n"
   ]
  },
  {
   "cell_type": "code",
   "execution_count": null,
   "metadata": {},
   "outputs": [],
   "source": [
    "plot_categorized(data_categorized, 'spread', subsamples=SUBSAMPLES)"
   ]
  },
  {
   "cell_type": "markdown",
   "metadata": {},
   "source": [
    "- Most spikes can be accounted for Junk bonds, while A-and-above bonds have fewer and smaller spikes.\n",
    "- Overall, the trends of bid and ask spread among the 3 rating categories are extremely similar. However, generally, higher-rated bonds (A-and-above and BBB) have narrower spreads, indicating lower risk and higher liquidity. Meanwhile, Junk bonds typically have wider spreads, signifying higher risk and lower liquidity."
   ]
  },
  {
   "cell_type": "markdown",
   "metadata": {},
   "source": [
    "# 2 Daily Return"
   ]
  },
  {
   "cell_type": "code",
   "execution_count": null,
   "metadata": {},
   "outputs": [],
   "source": [
    "plot_summary_stats(summary_stats, 'daily_return_bps')"
   ]
  },
  {
   "cell_type": "markdown",
   "metadata": {},
   "source": [
    "- The plot illustrates the volatility of daily returns across bonds. The returns fluctuate around the zero line (which is quite reasonable), with few noticeable spikes both above and below it. \n",
    "- During the crisis period, the returns experience higher volatility, which is consistent with a streassful market at that time."
   ]
  },
  {
   "cell_type": "code",
   "execution_count": null,
   "metadata": {},
   "outputs": [],
   "source": [
    "plot_categorized(data_categorized, 'daily_return_bps', subsamples=SUBSAMPLES)"
   ]
  },
  {
   "cell_type": "markdown",
   "metadata": {},
   "source": [
    "- Spikes in daily returns might correlate with economic news, earnings reports, interest rate changes, or other market-moving events.\n",
    "Large positive spikes could indicate favorable market conditions or news for the bonds, while negative spikes could point to adverse events.\n",
    "- Junk bonds show the most significant swings, which is consistent with the higher risk and return volatility associated with lower credit quality. A and above' bonds appear to have the smallest fluctuations, suggesting lower volatility typically associated with higher-rated, more stable bonds."
   ]
  },
  {
   "cell_type": "markdown",
   "metadata": {},
   "source": [
    "# 3 Bid and Ask Bias"
   ]
  },
  {
   "cell_type": "code",
   "execution_count": null,
   "metadata": {},
   "outputs": [],
   "source": [
    "plot_summary_stats(summary_stats, 'winsorized_bias')"
   ]
  },
  {
   "cell_type": "code",
   "execution_count": null,
   "metadata": {},
   "outputs": [],
   "source": [
    "plot_categorized(data_categorized, 'winsorized_bias', subsamples=SUBSAMPLES)"
   ]
  },
  {
   "cell_type": "markdown",
   "metadata": {},
   "source": [
    "- The results are similar to bid ask spead."
   ]
  },
  {
   "cell_type": "markdown",
   "metadata": {},
   "source": [
    "# 4 Credit Spread"
   ]
  },
  {
   "cell_type": "code",
   "execution_count": null,
   "metadata": {},
   "outputs": [],
   "source": [
    "plot_summary_stats(summary_stats, 'cs_dur_bps')"
   ]
  },
  {
   "cell_type": "markdown",
   "metadata": {},
   "source": [
    "- Credit spreads fluctuate over time but appear relatively stable with occasional spikes, suggesting episodic periods of market stress or increased risk perception. The huge spike in recent times is likely due to extreme outliers.\n",
    "- The rising of credit spread around 2008 corresponds to the global financial crisis, where credit spreads typically widened significantly due to increased credit risk and market uncertainty."
   ]
  },
  {
   "cell_type": "code",
   "execution_count": null,
   "metadata": {},
   "outputs": [],
   "source": [
    "plot_categorized(data_categorized, 'cs_dur_bps', subsamples=SUBSAMPLES)"
   ]
  },
  {
   "cell_type": "markdown",
   "metadata": {},
   "source": [
    "- The A-and-above category shows consistently lower credit spreads over time, indicative of higher creditworthiness and lower perceived risk by the market. BBB rated bonds have moderate credit spreads, suggesting medium risk. Junk bonds exhibit the highest credit spreads, reflecting their lower credit quality and higher risk.\n",
    "- Across all bond categories, there are periods where spreads widen significantly, likely indicating systemic market stresses affecting all bond types, albeit to different extents. Junk bonds, which are the most sensitive to economic changes and investor sentiment, show the most significant and frequent spikes. The global financial crisis around 2007-2008 and subsequent European debt crisis are likely to correspond with the spikes in the credit spreads seen in the plot.\n",
    "- Over the long term, credit spreads for 'A and above' and 'BBB' categories appear to remain relatively stable with fewer and less pronounced spikes, while 'Junk' bonds exhibit more volatility."
   ]
  },
  {
   "cell_type": "markdown",
   "metadata": {},
   "source": [
    "# 5 Rating"
   ]
  },
  {
   "cell_type": "code",
   "execution_count": null,
   "metadata": {},
   "outputs": [],
   "source": [
    "def get_category_stats(df, subsamples, start_date=None, end_date=None, clean=False):\n",
    "    '''\n",
    "    This function is used to calculate the ratios of the 3 rating categories,\n",
    "    i.e. A and above, BBB, Junk in different periods\n",
    "    as well as the total counts of the rating dates\n",
    "    '''\n",
    "    if clean == True:\n",
    "        df['date'] = pd.to_datetime(df['date'])\n",
    "    else:\n",
    "        df['rating_date'] = pd.to_datetime(df['rating_date'])\n",
    "        \n",
    "    if not start_date:\n",
    "        start_date = START_DATE\n",
    "    if not end_date:\n",
    "        if clean == True:\n",
    "            end_date = df['date'].max()\n",
    "        else:\n",
    "            end_date = df['rating_date'].max()\n",
    "    subsamples['Up to latest'] = (start_date, end_date)\n",
    "\n",
    "    category_ratios = pd.DataFrame()\n",
    "    rating_nums_dict = {}\n",
    "\n",
    "    for subsample_name, (start_date, end_date) in subsamples.items():\n",
    "        if clean == True:\n",
    "            subsample_df = df[(df['date'] >= pd.to_datetime(start_date)) & (df['date'] <= pd.to_datetime(end_date))]\n",
    "        else:\n",
    "            subsample_df = df[(df['rating_date'] >= pd.to_datetime(start_date)) & (df['rating_date'] <= pd.to_datetime(end_date))]\n",
    "            \n",
    "        category_counts = subsample_df['category'].value_counts()\n",
    "        category_ratio = category_counts / category_counts.sum()\n",
    "        category_ratios[subsample_name] = category_ratio\n",
    "        rating_nums_dict[subsample_name] = subsample_df.shape[0]\n",
    "\n",
    "    rating_nums_df = pd.DataFrame(list(rating_nums_dict.items())).rename(columns={0:'category',1:'Total Counts'}).set_index('category')\n",
    "    rating_stats = pd.concat([category_ratios.T, rating_nums_df], axis=1)\n",
    "\n",
    "    rating_stats = rating_stats[['A and above', 'BBB', 'Junk', 'Total Counts']]\n",
    "    \n",
    "    return rating_stats"
   ]
  },
  {
   "cell_type": "code",
   "execution_count": null,
   "metadata": {},
   "outputs": [],
   "source": [
    "def plot_rating(df, clean=False):\n",
    "    '''\n",
    "    This function is used to plot the proportions of the 3 rating categories,\n",
    "    i.e. A and above, BBB, Junk in different periods\n",
    "    and the total counts of the rating dates\n",
    "    '''\n",
    "\n",
    "    fig, ax1 = plt.subplots(figsize=(10, 6), dpi=200)\n",
    "\n",
    "    for column in df.columns[:-1]: \n",
    "        ax1.plot(df.index, df[column], label=column)\n",
    "\n",
    "    ax1.set_xlabel('Category')\n",
    "    ax1.set_ylabel('Proportion', color='tab:red')\n",
    "    ax1.tick_params(axis='y', labelcolor='tab:red')\n",
    "\n",
    "    ax2 = ax1.twinx()\n",
    "\n",
    "    ax2.bar(df.index, df['Total Counts'], color='grey', alpha=0.6, label='Total Counts')\n",
    "\n",
    "    ax2.set_ylabel('Total Counts', color='tab:grey')\n",
    "    ax2.tick_params(axis='y', labelcolor='tab:grey')\n",
    "\n",
    "\n",
    "    lines, labels = ax1.get_legend_handles_labels()\n",
    "    lines2, labels2 = ax2.get_legend_handles_labels()\n",
    "    ax1.legend(lines + lines2, labels + labels2, loc='upper left')\n",
    "\n",
    "    if clean == True:\n",
    "        plt.title('Rating Category Proportions and Total Counts with Cleaned Data')\n",
    "    else:\n",
    "        plt.title('Rating Category Proportions and Total Counts with Rating Data')\n",
    "    \n",
    "    if clean == True:\n",
    "        filepath = f'..'/ Path(OUTPUT_DIR) / 'rating_cleaned.png'\n",
    "    else:\n",
    "        filepath = f'..'/ Path(OUTPUT_DIR) / 'rating.png'\n",
    "    plt.savefig(filepath)\n",
    "    \n",
    "    plt.show()\n",
    "\n",
    "    "
   ]
  },
  {
   "cell_type": "code",
   "execution_count": null,
   "metadata": {},
   "outputs": [],
   "source": [
    "rating = pd.read_csv(Path(DATA_DIR) / 'pulled' / 'rating.csv')\n",
    "rating.head()"
   ]
  },
  {
   "cell_type": "code",
   "execution_count": null,
   "metadata": {},
   "outputs": [],
   "source": [
    "rating_stats = get_category_stats(rating, subsamples=SUBSAMPLES, clean=False)\n",
    "rating_stats"
   ]
  },
  {
   "cell_type": "code",
   "execution_count": null,
   "metadata": {},
   "outputs": [],
   "source": [
    "plot_rating(rating_stats,clean=False)"
   ]
  },
  {
   "cell_type": "code",
   "execution_count": null,
   "metadata": {},
   "outputs": [],
   "source": [
    "rating_stats_clean = get_category_stats(daily_data, subsamples=SUBSAMPLES, clean=True)\n",
    "rating_stats_clean"
   ]
  },
  {
   "cell_type": "code",
   "execution_count": null,
   "metadata": {},
   "outputs": [],
   "source": [
    "plot_rating(rating_stats_clean,clean=True)"
   ]
  },
  {
   "cell_type": "markdown",
   "metadata": {},
   "source": [
    "### Conclusion:\n",
    "\n",
    "- Note that ```rating``` is the rating data retreived from WRDS and processed by ```load_rating.py```, thus ```rating_stats``` is derived from a much larger sample while the cleaned data ```daily.csv``` tilts toward a more liquid sample by filtering out less frequntly traded bonds. However, the ratios show similar tendencies along the timeframe, with a decreasing ratio of A-and-above and an increasing ratio of BBB during the Post-Crisis to Post-Volcker periods.\n",
    "\n",
    "- In cleaned data, the proportion of BBB category is higher than raw data, which might indicate that the our data focuses more on BBB category bonds. However, as the cleaned data is derived trading data, which naturally has more trade dates than the rating dates form the rating data, it could also indicates for a higher frequency of trading in BBB category bonds.\n",
    "\n",
    "- In raw rating data, the proportion remains rather steady, but it is noticeable that an increasing ratio of BBB is accompnied by a decreasing ratio of A-and-above, which might indicates that the bond is more likely to transform between these 2 categories.\n"
   ]
  },
  {
   "cell_type": "markdown",
   "metadata": {},
   "source": []
  },
  {
   "cell_type": "markdown",
   "metadata": {},
   "source": []
  }
 ],
 "metadata": {
  "language_info": {
   "name": "python"
  }
 },
 "nbformat": 4,
 "nbformat_minor": 2
}
