{
 "cells": [
  {
   "cell_type": "code",
   "execution_count": 1,
   "metadata": {},
   "outputs": [],
   "source": [
    "import pandas as pd\n",
    "import numpy as np"
   ]
  },
  {
   "cell_type": "code",
   "execution_count": 3,
   "metadata": {},
   "outputs": [],
   "source": [
    "# load the data generated from Open Source Bond Asset Pricing\n",
    "# the data is the output from MakeondDailyMetrics.py\n",
    "data = pd.read_csv\\\n",
    "    (r'BondDailyPublic.csv.gzip',\n",
    "     compression='gzip')\n",
    "data.columns = data.columns.str.lower()\n",
    "data['trd_exctn_dt'] = pd.to_datetime(data['trd_exctn_dt'])\n",
    "if 'unnamed: 0' in data.columns:\n",
    "    data.drop(columns=['unnamed: 0'], inplace=True)"
   ]
  },
  {
   "cell_type": "code",
   "execution_count": 74,
   "metadata": {},
   "outputs": [
    {
     "data": {
      "text/html": [
       "<div>\n",
       "<style scoped>\n",
       "    .dataframe tbody tr th:only-of-type {\n",
       "        vertical-align: middle;\n",
       "    }\n",
       "\n",
       "    .dataframe tbody tr th {\n",
       "        vertical-align: top;\n",
       "    }\n",
       "\n",
       "    .dataframe thead th {\n",
       "        text-align: right;\n",
       "    }\n",
       "</style>\n",
       "<table border=\"1\" class=\"dataframe\">\n",
       "  <thead>\n",
       "    <tr style=\"text-align: right;\">\n",
       "      <th></th>\n",
       "      <th>cusip_id</th>\n",
       "      <th>trd_exctn_dt</th>\n",
       "      <th>prclean</th>\n",
       "      <th>prfull</th>\n",
       "      <th>acclast</th>\n",
       "      <th>accpmt</th>\n",
       "      <th>accall</th>\n",
       "      <th>ytm</th>\n",
       "      <th>ytmt</th>\n",
       "      <th>qvolume</th>\n",
       "      <th>dvolume</th>\n",
       "      <th>coupon</th>\n",
       "      <th>mod_dur</th>\n",
       "      <th>convexity</th>\n",
       "      <th>cs_dur</th>\n",
       "      <th>cs</th>\n",
       "    </tr>\n",
       "  </thead>\n",
       "  <tbody>\n",
       "    <tr>\n",
       "      <th>698934</th>\n",
       "      <td>000325AA8</td>\n",
       "      <td>2002-07-01</td>\n",
       "      <td>118.2500</td>\n",
       "      <td>121.652083</td>\n",
       "      <td>3.402083</td>\n",
       "      <td>53.274653</td>\n",
       "      <td>56.676736</td>\n",
       "      <td>-0.174177</td>\n",
       "      <td>-0.174177</td>\n",
       "      <td>1000000.0</td>\n",
       "      <td>1182500.0</td>\n",
       "      <td>8.875</td>\n",
       "      <td>0.663875</td>\n",
       "      <td>0.815456</td>\n",
       "      <td>-0.195077</td>\n",
       "      <td>-0.195077</td>\n",
       "    </tr>\n",
       "    <tr>\n",
       "      <th>698935</th>\n",
       "      <td>000325AA8</td>\n",
       "      <td>2002-07-05</td>\n",
       "      <td>118.2500</td>\n",
       "      <td>121.800000</td>\n",
       "      <td>3.550000</td>\n",
       "      <td>53.274653</td>\n",
       "      <td>56.824653</td>\n",
       "      <td>-0.180752</td>\n",
       "      <td>-0.180752</td>\n",
       "      <td>1000000.0</td>\n",
       "      <td>1182500.0</td>\n",
       "      <td>8.875</td>\n",
       "      <td>0.648025</td>\n",
       "      <td>0.787306</td>\n",
       "      <td>-0.201552</td>\n",
       "      <td>-0.201552</td>\n",
       "    </tr>\n",
       "    <tr>\n",
       "      <th>698936</th>\n",
       "      <td>000325AA8</td>\n",
       "      <td>2002-07-15</td>\n",
       "      <td>100.7500</td>\n",
       "      <td>104.497223</td>\n",
       "      <td>3.747222</td>\n",
       "      <td>53.274653</td>\n",
       "      <td>57.021875</td>\n",
       "      <td>0.075215</td>\n",
       "      <td>0.075215</td>\n",
       "      <td>18618000.0</td>\n",
       "      <td>18757635.0</td>\n",
       "      <td>8.875</td>\n",
       "      <td>0.544183</td>\n",
       "      <td>0.568071</td>\n",
       "      <td>0.055515</td>\n",
       "      <td>0.055515</td>\n",
       "    </tr>\n",
       "    <tr>\n",
       "      <th>698937</th>\n",
       "      <td>000325AA8</td>\n",
       "      <td>2002-07-24</td>\n",
       "      <td>100.6028</td>\n",
       "      <td>104.571897</td>\n",
       "      <td>3.969097</td>\n",
       "      <td>53.274653</td>\n",
       "      <td>57.243750</td>\n",
       "      <td>0.077392</td>\n",
       "      <td>0.077392</td>\n",
       "      <td>20650000.0</td>\n",
       "      <td>20774469.0</td>\n",
       "      <td>8.875</td>\n",
       "      <td>0.519523</td>\n",
       "      <td>0.529683</td>\n",
       "      <td>0.058492</td>\n",
       "      <td>0.058492</td>\n",
       "    </tr>\n",
       "    <tr>\n",
       "      <th>698938</th>\n",
       "      <td>000325AA8</td>\n",
       "      <td>2002-07-26</td>\n",
       "      <td>100.6250</td>\n",
       "      <td>104.692708</td>\n",
       "      <td>4.067708</td>\n",
       "      <td>53.274653</td>\n",
       "      <td>57.342361</td>\n",
       "      <td>0.076781</td>\n",
       "      <td>0.076781</td>\n",
       "      <td>200000.0</td>\n",
       "      <td>201250.0</td>\n",
       "      <td>8.875</td>\n",
       "      <td>0.508981</td>\n",
       "      <td>0.513842</td>\n",
       "      <td>0.058781</td>\n",
       "      <td>0.058781</td>\n",
       "    </tr>\n",
       "  </tbody>\n",
       "</table>\n",
       "</div>"
      ],
      "text/plain": [
       "         cusip_id trd_exctn_dt   prclean      prfull   acclast     accpmt  \\\n",
       "698934  000325AA8   2002-07-01  118.2500  121.652083  3.402083  53.274653   \n",
       "698935  000325AA8   2002-07-05  118.2500  121.800000  3.550000  53.274653   \n",
       "698936  000325AA8   2002-07-15  100.7500  104.497223  3.747222  53.274653   \n",
       "698937  000325AA8   2002-07-24  100.6028  104.571897  3.969097  53.274653   \n",
       "698938  000325AA8   2002-07-26  100.6250  104.692708  4.067708  53.274653   \n",
       "\n",
       "           accall       ytm      ytmt     qvolume     dvolume  coupon  \\\n",
       "698934  56.676736 -0.174177 -0.174177   1000000.0   1182500.0   8.875   \n",
       "698935  56.824653 -0.180752 -0.180752   1000000.0   1182500.0   8.875   \n",
       "698936  57.021875  0.075215  0.075215  18618000.0  18757635.0   8.875   \n",
       "698937  57.243750  0.077392  0.077392  20650000.0  20774469.0   8.875   \n",
       "698938  57.342361  0.076781  0.076781    200000.0    201250.0   8.875   \n",
       "\n",
       "         mod_dur  convexity    cs_dur        cs  \n",
       "698934  0.663875   0.815456 -0.195077 -0.195077  \n",
       "698935  0.648025   0.787306 -0.201552 -0.201552  \n",
       "698936  0.544183   0.568071  0.055515  0.055515  \n",
       "698937  0.519523   0.529683  0.058492  0.058492  \n",
       "698938  0.508981   0.513842  0.058781  0.058781  "
      ]
     },
     "execution_count": 74,
     "metadata": {},
     "output_type": "execute_result"
    }
   ],
   "source": [
    "data.head(5)"
   ]
  },
  {
   "cell_type": "code",
   "execution_count": 11,
   "metadata": {},
   "outputs": [],
   "source": [
    "# Convert 'trd_exctn_dt' to datetime\n",
    "data['trd_exctn_dt'] = pd.to_datetime(data['trd_exctn_dt'])\n",
    "\n",
    "# Sort by 'cusip_id' and 'trd_exctn_dt'\n",
    "data.sort_values(by=['cusip_id', 'trd_exctn_dt'], inplace=True)"
   ]
  },
  {
   "cell_type": "code",
   "execution_count": 75,
   "metadata": {},
   "outputs": [],
   "source": [
    "# use the data in 2002 and 2003 for testing purposes\n",
    "data_copy = data[['cusip_id','trd_exctn_dt','prclean']]"
   ]
  },
  {
   "cell_type": "markdown",
   "metadata": {},
   "source": [
    "## Filter based on business days between trades (<= 5 days)"
   ]
  },
  {
   "cell_type": "code",
   "execution_count": 77,
   "metadata": {},
   "outputs": [
    {
     "name": "stderr",
     "output_type": "stream",
     "text": [
      "C:\\Users\\baiyu\\AppData\\Local\\Temp\\ipykernel_48176\\2803633981.py:2: SettingWithCopyWarning: \n",
      "A value is trying to be set on a copy of a slice from a DataFrame.\n",
      "Try using .loc[row_indexer,col_indexer] = value instead\n",
      "\n",
      "See the caveats in the documentation: https://pandas.pydata.org/pandas-docs/stable/user_guide/indexing.html#returning-a-view-versus-a-copy\n",
      "  data_copy['days_since_last_trade'] = data_copy.groupby('cusip_id')['trd_exctn_dt'].diff().dt.days.fillna(0).astype(int)\n",
      "C:\\Users\\baiyu\\AppData\\Local\\Temp\\ipykernel_48176\\2803633981.py:14: SettingWithCopyWarning: \n",
      "A value is trying to be set on a copy of a slice from a DataFrame.\n",
      "Try using .loc[row_indexer,col_indexer] = value instead\n",
      "\n",
      "See the caveats in the documentation: https://pandas.pydata.org/pandas-docs/stable/user_guide/indexing.html#returning-a-view-versus-a-copy\n",
      "  data_copy['business_days_since_last_trade'] = data_copy.apply(calculate_business_days, axis=1)\n"
     ]
    }
   ],
   "source": [
    "# Calculate the number of calendar days between trades\n",
    "data_copy['days_since_last_trade'] = data_copy.groupby('cusip_id')['trd_exctn_dt'].diff().dt.days.fillna(0).astype(int)\n",
    "\n",
    "# Define a function to calculate the number of business days between two dates\n",
    "def calculate_business_days(row):\n",
    "    if row['days_since_last_trade'] == 0:  # no difference means no business days\n",
    "        return 0\n",
    "    # Generate a date range that excludes weekends\n",
    "    business_days = pd.bdate_range(start=row['trd_exctn_dt'] - pd.Timedelta(days=row['days_since_last_trade']),\n",
    "                                   end=row['trd_exctn_dt'] - pd.Timedelta(days=1))\n",
    "    return len(business_days)\n",
    "\n",
    "# Apply the function to each row\n",
    "data_copy['business_days_since_last_trade'] = data_copy.apply(calculate_business_days, axis=1)\n",
    "\n",
    "# filter the trades has less than five business days since last trade\n",
    "data_copy = data_copy[data_copy['business_days_since_last_trade'] <= 5]\n"
   ]
  },
  {
   "cell_type": "markdown",
   "metadata": {},
   "source": [
    "## filter out bonds with less than five trades per month"
   ]
  },
  {
   "cell_type": "code",
   "execution_count": 78,
   "metadata": {},
   "outputs": [
    {
     "name": "stderr",
     "output_type": "stream",
     "text": [
      "C:\\Users\\baiyu\\AppData\\Local\\Temp\\ipykernel_48176\\3377333833.py:2: SettingWithCopyWarning: \n",
      "A value is trying to be set on a copy of a slice from a DataFrame.\n",
      "Try using .loc[row_indexer,col_indexer] = value instead\n",
      "\n",
      "See the caveats in the documentation: https://pandas.pydata.org/pandas-docs/stable/user_guide/indexing.html#returning-a-view-versus-a-copy\n",
      "  data_copy['year_month'] = data_copy['trd_exctn_dt'].dt.to_period('M')\n"
     ]
    }
   ],
   "source": [
    "# Group by cusip_id and month, and filter out bonds with less than five trades per month\n",
    "data_copy['year_month'] = data_copy['trd_exctn_dt'].dt.to_period('M')\n",
    "\n",
    "monthly_trade_counts = data_copy.groupby(['cusip_id', 'year_month']).size().reset_index(name='monthly_trades')\n",
    "\n",
    "eligible_bonds = monthly_trade_counts[monthly_trade_counts['monthly_trades'] >= 5]\n",
    "\n",
    "# Join the eligible bonds back to the data\n",
    "data_copy = data_copy.merge(eligible_bonds[['cusip_id', 'year_month']], on=['cusip_id', 'year_month'], how='inner')"
   ]
  },
  {
   "cell_type": "markdown",
   "metadata": {},
   "source": [
    "## calculate the daily returns, remove large return reversals and exclude returns with absolute value > 20%"
   ]
  },
  {
   "cell_type": "code",
   "execution_count": 79,
   "metadata": {},
   "outputs": [
    {
     "name": "stderr",
     "output_type": "stream",
     "text": [
      "C:\\Users\\baiyu\\AppData\\Local\\Temp\\ipykernel_48176\\2906154483.py:2: FutureWarning: The default fill_method='ffill' in SeriesGroupBy.pct_change is deprecated and will be removed in a future version. Either fill in any non-leading NA values prior to calling pct_change or specify 'fill_method=None' to not fill NA values.\n",
      "  data_copy['daily_return'] = data_copy.groupby('cusip_id')['prclean'].pct_change()\n"
     ]
    }
   ],
   "source": [
    "# Calculate daily returns\n",
    "data_copy['daily_return'] = data_copy.groupby('cusip_id')['prclean'].pct_change()\n",
    "\n",
    "# Remove large return reversals (20% or more followed by 20% or more in the opposite direction)\n",
    "data_copy['previous_return'] = data_copy.groupby('cusip_id')['daily_return'].shift()\n",
    "data_copy = data_copy[~((abs(data_copy['daily_return']) >= 0.2) & (data_copy['daily_return'] * data_copy['previous_return'] < 0))]\n",
    "\n",
    "# Exclude returns with absolute value > 20%\n",
    "data_copy = data_copy[abs(data_copy['daily_return']) <= 0.2]"
   ]
  },
  {
   "cell_type": "code",
   "execution_count": 80,
   "metadata": {},
   "outputs": [
    {
     "name": "stderr",
     "output_type": "stream",
     "text": [
      "C:\\Users\\baiyu\\AppData\\Local\\Temp\\ipykernel_48176\\3153803440.py:3: SettingWithCopyWarning: \n",
      "A value is trying to be set on a copy of a slice from a DataFrame.\n",
      "Try using .loc[row_indexer,col_indexer] = value instead\n",
      "\n",
      "See the caveats in the documentation: https://pandas.pydata.org/pandas-docs/stable/user_guide/indexing.html#returning-a-view-versus-a-copy\n",
      "  result['daily_return_bps'] = result['daily_return'] * 10000\n"
     ]
    },
    {
     "data": {
      "text/plain": [
       "0.6486045618024078"
      ]
     },
     "execution_count": 80,
     "metadata": {},
     "output_type": "execute_result"
    }
   ],
   "source": [
    "# Select relevant columns to display the results\n",
    "result = data_copy[['cusip_id', 'trd_exctn_dt', 'prclean', 'daily_return']]\n",
    "result['daily_return_bps'] = result['daily_return'] * 10000\n",
    "result['daily_return_bps'].mean()"
   ]
  },
  {
   "cell_type": "code",
   "execution_count": 82,
   "metadata": {},
   "outputs": [],
   "source": [
    "result.to_csv(r\"C:\\Users\\baiyu\\Desktop\\finm32900-project\\daily_return.csv\", index=False)"
   ]
  }
 ],
 "metadata": {
  "kernelspec": {
   "display_name": "base",
   "language": "python",
   "name": "python3"
  },
  "language_info": {
   "codemirror_mode": {
    "name": "ipython",
    "version": 3
   },
   "file_extension": ".py",
   "mimetype": "text/x-python",
   "name": "python",
   "nbconvert_exporter": "python",
   "pygments_lexer": "ipython3",
   "version": "3.9.13"
  }
 },
 "nbformat": 4,
 "nbformat_minor": 2
}
